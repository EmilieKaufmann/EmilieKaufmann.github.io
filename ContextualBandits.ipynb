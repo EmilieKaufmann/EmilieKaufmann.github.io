{
 "cells": [
  {
   "cell_type": "markdown",
   "metadata": {
    "colab_type": "text",
    "id": "StGsDuF_Whon"
   },
   "source": [
    "# Trying Contextual Bandit Algorithms \n",
    "\n",
    "Code inspired by the [Pyma bandit library](https://www.di.ens.fr/~cappe/Code/PymaBandits/) by O. Cappé and A. Garivier and the [SMPyBandit library](https://github.com/SMPyBandits/SMPyBandits) of Lilian Besson.\n",
    "\n",
    "Notebook to be finished and sent by e-mail (together with all the needed file so that I can run your notebook) to emilie.kaufmann@univ-lille.fr by **November 30th, 2020**. Don't hesitate to add comments and interpretation of the experiments."
   ]
  },
  {
   "cell_type": "code",
   "execution_count": 1,
   "metadata": {
    "colab": {},
    "colab_type": "code",
    "id": "xm3EFUiMWho1"
   },
   "outputs": [],
   "source": [
    "import numpy as np\n",
    "from matplotlib import pyplot as plt\n",
    "import time\n",
    "\n",
    "# Bandit specific functions and classes (same as last time) \n",
    "import Arms as arm\n",
    "from StochasticBandit import * \n",
    "from BanditBaselines import * # you will need UCB alpha into your baselines \n",
    "\n",
    "from Experiments import * # all the previous functions to run experiments"
   ]
  },
  {
   "cell_type": "markdown",
   "metadata": {
    "colab_type": "text",
    "id": "CnC90yPhWhpQ"
   },
   "source": [
    "# I) Defining a Linear Bandit Environement \n",
    "\n",
    "For simplicity, we will first experiment in a setting in which the feature $x_a \\in \\mathbb{R}^d$ associated to each arm $a$ is fixed in every rounds. That is, the set of arms available in round $t$ is  $$\\mathcal X_t = \\{x_1,\\dots,x_K\\} \\subseteq \\mathbb R^d$$ and it can still be identified with $\\{1,\\dots,K\\}$. \n",
    "\n",
    "In this linear bandit model, when arm $A_t \\in \\{1,\\dots,K\\}$ is chosen in round $t$, a reward \n",
    "$$r_t = x_{A_t}^\\top \\theta_\\star + \\varepsilon_t$$\n",
    "is generated, for some $\\theta_\\star \\in \\mathbb R^d$ (unknown to the agent). To generate data, we will further assume that the noise is Gaussian with zero mean and some standard deviation $\\sigma^2$. \n",
    "\n",
    "The following function creates such a linear bandit model and notably depends on a matrix $X \\in \\mathbb{R}^{K \\times d}$ where each row $a$ of $X$ is $x_a^\\top$. "
   ]
  },
  {
   "cell_type": "code",
   "execution_count": 2,
   "metadata": {},
   "outputs": [],
   "source": [
    "def LinearBandit(X,theta,sigma):\n",
    "    \"\"\"X : matrix of features of dimension (K,d), \n",
    "    theta : regression vector of dimension (d,1), \n",
    "    sigma : stdev of Gaussian noise\"\"\"\n",
    "    Arms = []\n",
    "    (K,d)=np.shape(X)\n",
    "    for k in range(K):\n",
    "        mu = np.dot(X[k,:],theta)[0]\n",
    "        arm = arms.Gaussian(mu,sigma)\n",
    "        Arms.append(arm)\n",
    "    return MAB(Arms)\n"
   ]
  },
  {
   "cell_type": "markdown",
   "metadata": {},
   "source": [
    "**Create a random linear bandit instance of your choice, with normalized features (i.e. $\\|x_a\\|\\leq 1$) and $\\|\\theta\\|=1$.** \n",
    "\n",
    "Display the means and the best arm and settle for a \"reasonnably interesting\" problem with a gap that is not too large between the best and second-best arm. You may wish to save some interesting pairs (X,$\\theta$) of features and regression parameters to work on later, for different dimensions / number of arms. "
   ]
  },
  {
   "cell_type": "code",
   "execution_count": 3,
   "metadata": {},
   "outputs": [
    {
     "name": "stdout",
     "output_type": "stream",
     "text": [
      "the means are [0.3543070716807507, 0.5171602849166356, -0.37667155718318235, 0.6344446673185001, -0.6979627535531212, -0.3148455608363439, 0.8162612745786197, -0.23248529896269085, -0.33399909975199554, 0.2933116870929401]\n",
      "the best arm is 6\n",
      "gaps are [0.4619542  0.29910099 1.19293283 0.18181661 1.51422403 1.13110684\n",
      " 0.         1.04874657 1.15026037 0.52294959]\n"
     ]
    }
   ],
   "source": [
    "K=10\n",
    "d=5 \n",
    "\n",
    "X = np.random.normal(0,1,(K,d))\n",
    "\n",
    "for k in range(K):\n",
    "    X[k,:]=X[k,:]/np.linalg.norm(X[k,:])\n",
    "\n",
    "theta = np.random.random((d,1))\n",
    "theta = theta / np.linalg.norm(theta)\n",
    "\n",
    "sigma=0.5\n",
    "\n",
    "linear_bandit = LinearBandit(X,theta,sigma)\n",
    "\n",
    "print(\"the means are\",linear_bandit.means)\n",
    "print(\"the best arm is\",linear_bandit.bestarm)\n",
    "print(\"gaps are\",linear_bandit.means[linear_bandit.bestarm]-linear_bandit.means)\n",
    "\n",
    "\n",
    "# save features and theta if you which to try this bandit problem again\n",
    "#np.savetxt(\"X1.csv\", X, delimiter=\",\")\n",
    "#np.savetxt(\"theta1.csv\", X, delimiter=\",\")\n",
    "\n",
    "# load saved features and theta\n",
    "#X = np.genfromtxt(\"X0.csv\", delimiter=\",\")\n",
    "#theta = np.genfromtxt(\"theta0.csv\", delimiter=\",\")\n",
    "#linear_bandit = LinearBandit(X,theta,sigma)"
   ]
  },
  {
   "cell_type": "markdown",
   "metadata": {},
   "source": [
    "# II) Implementing least-squares and the greedy strategy\n",
    "\n",
    "The function below gives the code for the Follow-the-Leader algorithm using least-square estimation to estimate $\\theta_\\star$ and the mean reward of each arm, i.e. the algorithm selecting in round $t+1$ arm  \n",
    "$$A_{t+1} = \\underset{a \\in \\{1,\\dots,K\\}}{\\text{argmax}} \\ x_a^\\top \\hat{\\theta}_t^{\\lambda},$$\n",
    "where $\\hat{\\theta}_t^{\\lambda}$ is the regularized least-square estimate, with regularization parameter $\\lambda$.\n",
    "\n",
    "**Complete the code with the online least-square update that is needed.**"
   ]
  },
  {
   "cell_type": "code",
   "execution_count": 4,
   "metadata": {},
   "outputs": [],
   "source": [
    "class Greedy:\n",
    "    \"\"\"follow the leader using least-square estimation\"\"\"\n",
    "    def __init__(self,X,reg=1):\n",
    "        # the algorithms is fed with the known matrix of features (K,d) and the regularization parameter\n",
    "        self.features = X\n",
    "        (self.nbArms,self.dimension) = np.shape(X)\n",
    "        self.reg = reg\n",
    "        self.clear()\n",
    "\n",
    "    def clear(self):\n",
    "        # initialize the design matrix, its inverse, \n",
    "        # the vector containing the sum of r_s*x_s and the least squares estimate\n",
    "        self.Design = self.reg*np.eye(self.dimension)\n",
    "        self.DesignInv = (1/self.reg)*np.eye(self.dimension)\n",
    "        self.Vector = np.zeros((self.dimension,1))\n",
    "        self.thetaLS = np.zeros((self.dimension,1)) # regularized least-squares estimate\n",
    "    \n",
    "    def chooseArmToPlay(self):\n",
    "        # compute the vector of estimated means  \n",
    "        muhat = np.dot(self.features,self.thetaLS)\n",
    "        # select the arm with largest estimated mean \n",
    "        return randmax(muhat)\n",
    "\n",
    "\n",
    "    def receiveReward(self,arm,reward):\n",
    "        x = self.features[arm,:].reshape((self.dimension,1))\n",
    "        self.Design = self.Design + np.dot(x,np.transpose(x)) \n",
    "        self.Vector = self.Vector + reward*x\n",
    "        # online update of the inverse of the design matrix\n",
    "        Y = np.dot(self.DesignInv,x)\n",
    "        self.DesignInv = self.DesignInv - (1/(1 + np.dot(np.transpose(x),Y)))*np.dot(Y,np.transpose(Y)) \n",
    "        # update of the least squares estimate \n",
    "        self.thetaLS = np.dot(self.DesignInv,self.Vector)\n",
    "\n",
    "    def name(self):\n",
    "        return \"greedyLB\""
   ]
  },
  {
   "cell_type": "markdown",
   "metadata": {},
   "source": [
    "**Experiment with the greedy strategy on one run. Is it finding the best arm?** \n",
    "\n",
    "You may also compare the least square estimate at the end of the algorithm with the true parameter $\\theta_\\star$.\n",
    "\n",
    "Keep in mind that things can vary a lot between two different runs, don't hesitate to try multiple times."
   ]
  },
  {
   "cell_type": "code",
   "execution_count": 5,
   "metadata": {
    "scrolled": true
   },
   "outputs": [
    {
     "name": "stdout",
     "output_type": "stream",
     "text": [
      "[8, 9, 9, 9, 9, 9, 9, 9, 9, 9, 9, 9, 9, 9, 9, 9, 9, 9, 9, 9, 9, 9, 9, 9, 9, 9, 9, 9, 9, 9, 9, 9, 9, 9, 9, 9, 9, 9, 9, 9, 9, 9, 9, 9, 9, 9, 9, 9, 9, 9, 9, 9, 9, 9, 9, 9, 9, 9, 9, 9, 9, 9, 9, 9, 9, 9, 9, 9, 9, 9, 9, 9, 9, 9, 9, 9, 9, 9, 9, 9, 9, 9, 9, 9, 9, 9, 9, 9, 9, 9, 9, 9, 9, 9, 9, 9, 9, 9, 9, 9, 9, 9, 9, 9, 9, 9, 9, 9, 9, 9, 9, 9, 9, 9, 9, 9, 9, 9, 9, 9, 9, 9, 9, 9, 9, 9, 9, 9, 9, 9, 9, 9, 9, 9, 9, 9, 9, 9, 9, 9, 9, 9, 9, 9, 9, 9, 9, 9, 9, 9, 9, 9, 9, 9, 9, 9, 9, 9, 9, 9, 9, 9, 9, 9, 9, 9, 9, 9, 9, 9, 9, 9, 9, 9, 9, 9, 9, 9, 9, 9, 9, 9, 9, 9, 9, 9, 9, 9, 9, 9, 9, 9, 9, 9, 9, 9, 9, 9, 9, 9, 9, 9, 9, 9, 9, 9, 9, 9, 9, 9, 9, 9, 9, 9, 9, 9, 9, 9, 9, 9, 9, 9, 9, 9, 9, 9, 9, 9, 9, 9, 9, 9, 9, 9, 9, 9, 9, 9, 9, 9, 9, 9, 9, 9, 9, 9, 9, 9, 9, 9, 9, 9, 9, 9, 9, 9, 9, 9, 9, 9, 9, 9, 9, 9, 9, 9, 9, 9, 9, 9, 9, 9, 9, 9, 9, 9, 9, 9, 9, 9, 9, 9, 9, 9, 9, 9, 9, 9, 9, 9, 9, 9, 9, 9, 9, 9, 9, 9, 9, 9, 9, 9, 9, 9, 9, 9, 9, 9, 9, 9, 9, 9, 9, 9, 9, 9, 9, 9, 9, 9, 9, 9, 9, 9, 9, 9, 9, 9, 9, 9, 9, 9, 9, 9, 9, 9, 9, 9, 9, 9, 9, 9, 9, 9, 9, 9, 9, 9, 9, 9, 9, 9, 9, 9, 9, 9, 9, 9, 9, 9, 9, 9, 9, 9, 9, 9, 9, 9, 9, 9, 9, 9, 9, 9, 9, 9, 9, 9, 9, 9, 9, 9, 9, 9, 9, 9, 9, 9, 9, 9, 9, 9, 9, 9, 9, 9, 9, 9, 9, 9, 9, 9, 9, 9, 9, 9, 9, 9, 9, 9, 9, 9, 9, 9, 9, 9, 9, 9, 9, 9, 9, 9, 9, 9, 9, 9, 9, 9, 9, 9, 9, 9, 9, 9, 9, 9, 9, 9, 9, 9, 9, 9, 9, 9, 9, 9, 9, 9, 9, 9, 9, 9, 9, 9, 9, 9, 9, 9, 9, 9, 9, 9, 9, 9, 9, 9, 9, 9, 9, 9, 9, 9, 9, 9, 9, 9, 9, 9, 9, 9, 9, 9, 9, 9, 9, 9, 9, 9, 9, 9, 9, 9, 9, 9, 9, 9, 9, 9, 9, 9, 9, 9, 9, 9, 9, 9, 9, 9, 9, 9, 9, 9, 9, 9, 9, 9, 9, 9, 9, 9, 9, 9, 9, 9, 9, 9, 9, 9, 9, 9, 9, 9, 9, 9, 9, 9, 9, 9, 9, 9, 9, 9, 9, 9, 9, 9, 9, 9, 9, 9, 9, 9, 9, 9, 9, 9, 9, 9, 9, 9, 9, 9, 9, 9, 9, 9, 9, 9, 9, 9, 9, 9, 9, 9, 9, 9, 9, 9, 9, 9, 9, 9, 9, 9, 9, 9, 9, 9, 9, 9, 9, 9, 9, 9, 9, 9, 9, 9, 9, 9, 9, 9, 9, 9, 9, 9, 9, 9, 9, 9, 9, 9, 9, 9, 9, 9, 9, 9, 9, 9, 9, 9, 9, 9, 9, 9, 9, 9, 9, 9, 9, 9, 9, 9, 9, 9, 9, 9, 9, 9, 9, 9, 9, 9, 9, 9, 9, 9, 9, 9, 9, 9, 9, 9, 9, 9, 9, 9, 9, 9, 9, 9, 9, 9, 9, 9, 9, 9, 9, 9, 9, 9, 9, 9, 9, 9, 9, 9, 9, 9, 9, 9, 9, 9, 9, 9, 9, 9, 9, 9, 9, 9, 9, 9, 9, 9, 9, 9, 9, 9, 9, 9, 9, 9, 9, 9, 9, 9, 9, 9, 9, 9, 9, 9, 9, 9, 9, 9, 9, 9, 9, 9, 9, 9, 9, 9, 9, 9, 9, 9, 9, 9, 9, 9, 9, 9, 9, 9, 9, 9, 9, 9, 9, 9, 9, 9, 9, 9, 9, 9, 9, 9, 9, 9, 9, 9, 9, 9, 9, 9, 9, 9, 9, 9, 9, 9, 9, 9, 9, 9, 9, 9, 9, 9, 9, 9, 9, 9, 9, 9, 9, 9, 9, 9, 9, 9, 9, 9, 9, 9, 9, 9, 9, 9, 9, 9, 9, 9, 9, 9, 9, 9, 9, 9, 9, 9, 9, 9, 9, 9, 9, 9, 9, 9, 9, 9, 9, 9, 9, 9, 9, 9, 9, 9, 9, 9, 9, 9, 9, 9, 9, 9, 9, 9, 9, 9, 9, 9, 9, 9, 9, 9, 9, 9, 9, 9, 9, 9, 9, 9, 9, 9, 9, 9, 9, 9, 9, 9, 9, 9, 9, 9, 9, 9, 9, 9, 9, 9, 9, 9, 9, 9, 9, 9, 9, 9, 9, 9, 9, 9, 9, 9, 9, 9, 9, 9, 9, 9, 9, 9, 9, 9, 9, 9, 9, 9, 9, 9, 9, 9, 9, 9, 9, 9, 9, 9, 9, 9, 9, 9, 9, 9, 9, 9, 9, 9, 9, 9, 9, 9, 9, 9, 9, 9, 9, 9, 9, 9, 9, 9, 9, 9, 9, 9, 9, 9, 9, 9, 9, 9, 9, 9, 9, 9, 9, 9, 9, 9, 9, 9, 9, 9, 9, 9, 9, 9, 9, 9, 9, 9, 9, 9, 9, 9, 9, 9, 9, 9, 9, 9, 9, 9, 9, 9, 9, 9, 9, 9, 9, 9, 9, 9, 9, 9, 9, 9, 9, 9, 9, 9, 9, 9, 9, 9, 9, 9, 9, 9, 9, 9] \n",
      "\n",
      "the least square estimate is [[0.28170488 0.48836266 0.41002266 0.13957594 0.7032384 ]]\n",
      "the true parameter is  [[ 0.23876736 -0.02008945  0.12049046  0.10564362 -0.04169064]] \n",
      "\n",
      "estimates of the means are [[ 0.22148392  0.08865577  0.03198344  0.04519905 -0.05226953  0.04063212\n",
      "   0.04770259 -0.17750054 -0.29088949  0.29063477]]\n",
      "the true means are [0.3543070716807507, 0.5171602849166356, -0.37667155718318235, 0.6344446673185001, -0.6979627535531212, -0.3148455608363439, 0.8162612745786197, -0.23248529896269085, -0.33399909975199554, 0.2933116870929401]\n"
     ]
    }
   ],
   "source": [
    "T = 1000\n",
    "strategy1 = Greedy(X)\n",
    "\n",
    "selections,rewards = OneBanditOneLearnerOneRun(linear_bandit, strategy1, T)\n",
    "print(selections,\"\\n\")\n",
    "\n",
    "print(\"the least square estimate is\",np.transpose(theta))\n",
    "print(\"the true parameter is \",np.transpose(strategy1.thetaLS),\"\\n\")\n",
    "print(\"estimates of the means are\",np.transpose(np.dot(X,strategy1.thetaLS)))   \n",
    "print(\"the true means are\",linear_bandit.means)"
   ]
  },
  {
   "cell_type": "markdown",
   "metadata": {},
   "source": [
    "The linear bandit model that we created is a particular instance of a multi-armed bandit model in which each arm is Gaussian with variance $\\sigma^2$. Therefore, we can also apply a standard UCB algorithm for this problem (that will not leverage the fact that all the means depend on the same regression parameter). With a well-chosen parameter for the UCB, this algorithm is guaranteed to have logarithmic regret on any linear bandit model (but the regret may be smaller for an algorithm leveraging the linear structure).\n",
    "\n",
    "**Compare the regret (estimated over multiple runs) of the greedy algorithm implemented above with that of a UCB algorithm and that of the FTL algorithm implemented last time (i.e. the greedy algorithm that does *not* use the linear structure).**\n"
   ]
  },
  {
   "cell_type": "code",
   "execution_count": 6,
   "metadata": {
    "scrolled": true
   },
   "outputs": [
    {
     "data": {
      "image/png": "[encoded data removed]",
      "text/plain": [
       "<Figure size 432x288 with 1 Axes>"
      ]
     },
     "metadata": {
      "needs_background": "light"
     },
     "output_type": "display_data"
    }
   ],
   "source": [
    "alpha=2*sigma**2\n",
    "\n",
    "strategy1 = Greedy(X)\n",
    "strategy2 = FTL(K)\n",
    "strategy3 = UCB(K,alpha)\n",
    "\n",
    "RunExpes([strategy1, strategy2,strategy3],linear_bandit,200,2000,10,\"off\")"
   ]
  },
  {
   "cell_type": "markdown",
   "metadata": {},
   "source": [
    "The regret of UCB is logarithmic, while both greedy algorithms have a linear regret, with the features not really helping...  "
   ]
  },
  {
   "cell_type": "markdown",
   "metadata": {
    "colab_type": "text",
    "id": "TQceO7tuWhpq"
   },
   "source": [
    "# III) Smarter algorithms\n",
    "\n",
    "Implement the following algorithms: \n",
    "* LinUCB taking as an input a threshold function $\\beta(t,\\delta)$: \n",
    "$$A_{t+1}^{\\text{LinUCB}} = \\underset{a \\in \\{1,\\dots,K\\}}{\\text{argmax}} \\left[x_a^\\top \\hat{\\theta}_t^{\\lambda} + \\beta(t,\\delta) ||x_a||_{\\left(B_t^{\\lambda}\\right)^{-1}}\\right]$$\n",
    "* Thompson Sampling, taking as an input a posterior inflation parameter $v$ \n",
    "$$A_{t+1}^{\\text{LinTS}} = \\underset{a \\in \\{1,\\dots,K\\}}{\\text{argmax}} \\ x_a^\\top \\tilde{\\theta}_t$$\n",
    "where $\\tilde{\\theta}_t$ is a sample from $\\mathcal{N}\\left(\\hat{\\theta}_t^{\\lambda}, v^2 \\left(B_t^{\\lambda}\\right)^{-1}\\right)$.\n",
    "\n",
    "Compare their regret with that of the same UCB algorithm that before, which is guaranteed to have logarithmic regret but does not make use of the features. \n"
   ]
  },
  {
   "cell_type": "code",
   "execution_count": 7,
   "metadata": {},
   "outputs": [],
   "source": [
    "class LinUCB:\n",
    "    \"\"\"LinUCB strategy\"\"\"\n",
    "    def __init__(self,X,beta=0,delta=0.05,reg=1):\n",
    "        # the algorithms is fed with the known matrix of features (K,d), a threshold function beta(t,delta) and the regularization parameter\n",
    "        self.features = X\n",
    "        (self.nbArms,self.dimension) = np.shape(X)\n",
    "        self.reg = reg \n",
    "        self.beta = beta\n",
    "        if (beta ==0):\n",
    "            # default stylized threshold choice: \\sqrt{2log(1/delta) + dlog(t)}\n",
    "            self.beta = (lambda t,u : np.sqrt(2*log(1/u) + self.dimension*np.log(t)))\n",
    "        self.delta = delta\n",
    "        self.clear()\n",
    "\n",
    "    def clear(self):\n",
    "        # initialize the design matrix, its inverse, the vector containing the sum of r_s*x_s and the least squares estimate\n",
    "        self.Design = self.reg*np.eye(self.dimension)\n",
    "        self.DesignInv = (1/self.reg)*np.eye(self.dimension)\n",
    "        self.Vector = np.zeros((self.dimension,1))\n",
    "        self.thetaLS = np.zeros((self.dimension,1))\n",
    "        self.t = 1\n",
    "    \n",
    "    def chooseArmToPlay(self):\n",
    "        means = np.dot(self.features,self.thetaLS)\n",
    "        indices = np.zeros(self.nbArms)\n",
    "        for a in range(self.nbArms):\n",
    "            x = self.features[a,:].reshape((self.dimension,1))\n",
    "            indices[a] = means[a] + np.sqrt(np.dot(np.transpose(x),np.dot(self.DesignInv,x)))*self.beta(self.t,self.delta)\n",
    "        return randmax(indices)\n",
    "\n",
    "    def receiveReward(self,arm,reward):\n",
    "        x = self.features[arm,:].reshape((self.dimension,1))\n",
    "        self.Design = self.Design + np.dot(x,np.transpose(x)) \n",
    "        self.Vector = self.Vector + reward*x\n",
    "        # online update of the inverse of the design matrix\n",
    "        Y = np.dot(self.DesignInv,x)\n",
    "        self.DesignInv = self.DesignInv - (1/(1 + np.dot(np.transpose(x),Y)))*np.dot(Y,np.transpose(Y)) \n",
    "        # update of the least squares estimate \n",
    "        self.thetaLS = np.dot(self.DesignInv,self.Vector)\n",
    "        self.t = self.t + 1\n",
    "\n",
    "    def name(self):\n",
    "        return \"LinUCB\""
   ]
  },
  {
   "cell_type": "markdown",
   "metadata": {},
   "source": [
    "Let's see how LinUCB performs on one run. "
   ]
  },
  {
   "cell_type": "code",
   "execution_count": 8,
   "metadata": {},
   "outputs": [
    {
     "name": "stdout",
     "output_type": "stream",
     "text": [
      "elapsed time is 0.31594300270080566\n",
      "[9, 1, 5, 6, 6, 6, 6, 6, 6, 6, 6, 7, 9, 0, 6, 6, 6, 6, 6, 9, 1, 6, 6, 6, 9, 6, 3, 1, 6, 3, 6, 6, 6, 6, 6, 6, 6, 6, 6, 6, 6, 6, 6, 6, 6, 6, 6, 6, 6, 6, 6, 6, 6, 6, 6, 6, 6, 6, 6, 6, 6, 6, 6, 6, 3, 6, 6, 9, 9, 1, 6, 6, 6, 6, 6, 6, 6, 6, 6, 6, 6, 6, 7, 6, 6, 6, 6, 6, 6, 6, 6, 6, 6, 6, 6, 6, 1, 6, 6, 6, 6, 6, 6, 6, 6, 6, 6, 0, 0, 9, 9, 1, 6, 6, 6, 6, 6, 6, 6, 6, 6, 6, 6, 6, 6, 6, 6, 6, 6, 6, 6, 6, 6, 6, 6, 6, 6, 6, 3, 6, 6, 6, 6, 6, 6, 6, 6, 6, 6, 6, 6, 6, 0, 0, 0, 0, 0, 9, 1, 6, 6, 6, 6, 6, 6, 6, 6, 6, 6, 6, 9, 6, 6, 6, 6, 6, 6, 6, 6, 6, 6, 6, 3, 6, 6, 6, 6, 6, 6, 6, 6, 6, 6, 6, 6, 6, 6, 6, 6, 6, 6, 6, 6, 6, 6, 6, 6, 6, 6, 6, 6, 6, 6, 6, 6, 6, 6, 6, 6, 6, 6, 6, 6, 6, 6, 6, 6, 6, 6, 0, 0, 0, 0, 6, 6, 3, 6, 6, 6, 6, 6, 6, 6, 6, 6, 6, 6, 6, 6, 6, 6, 6, 6, 9, 6, 6, 6, 6, 6, 0, 6, 6, 6, 6, 6, 6, 6, 6, 6, 6, 6, 6, 6, 6, 6, 6, 6, 6, 6, 6, 6, 6, 6, 6, 6, 6, 6, 6, 6, 6, 6, 6, 6, 6, 6, 6, 6, 6, 6, 6, 6, 6, 6, 6, 6, 6, 6, 6, 6, 6, 6, 6, 6, 6, 6, 6, 6, 6, 6, 6, 6, 6, 6, 6, 6, 6, 6, 6, 6, 6, 6, 6, 6, 6, 6, 6, 6, 6, 6, 6, 6, 6, 6, 6, 6, 6, 6, 6, 6, 6, 6, 6, 6, 6, 6, 6, 6, 6, 6, 6, 6, 6, 6, 6, 6, 6, 6, 6, 6, 6, 6, 6, 6, 6, 6, 6, 6, 6, 6, 6, 6, 6, 6, 6, 6, 6, 6, 6, 6, 6, 6, 6, 6, 6, 6, 6, 6, 6, 6, 6, 6, 6, 6, 6, 6, 6, 6, 6, 6, 6, 6, 6, 6, 6, 6, 6, 6, 6, 9, 6, 6, 6, 6, 6, 6, 6, 6, 6, 6, 6, 6, 6, 6, 6, 6, 6, 6, 3, 6, 6, 6, 1, 1, 6, 6, 6, 6, 6, 6, 6, 6, 6, 6, 6, 3, 2, 6, 6, 6, 6, 6, 6, 6, 6, 6, 6, 6, 6, 6, 6, 6, 6, 6, 6, 6, 6, 6, 6, 6, 6, 6, 6, 6, 6, 6, 6, 6, 6, 6, 6, 6, 6, 6, 6, 6, 6, 6, 6, 6, 6, 6, 6, 6, 6, 0, 0, 0, 0, 0, 0, 2, 0, 2, 1, 9, 9, 0, 6, 6, 6, 6, 6, 6, 6, 6, 6, 6, 6, 6, 6, 6, 6, 6, 6, 6, 6, 6, 6, 6, 6, 6, 6, 6, 6, 6, 6, 6, 6, 6, 6, 6, 6, 6, 6, 6, 6, 6, 6, 6, 6, 6, 6, 6, 6, 6, 6, 6, 6, 6, 6, 6, 6, 6, 6, 6, 6, 6, 6, 6, 6, 6, 6, 6, 6, 6, 6, 6, 6, 6, 6, 6, 6, 6, 6, 6, 6, 6, 6, 6, 6, 6, 6, 6, 6, 6, 6, 6, 6, 6, 6, 1, 1, 6, 6, 6, 6, 6, 6, 6, 6, 6, 6, 6, 1, 6, 6, 1, 1, 1, 1, 1, 1, 0, 6, 6, 6, 6, 6, 6, 6, 6, 6, 6, 6, 6, 6, 6, 6, 6, 6, 6, 6, 6, 6, 6, 6, 6, 6, 6, 6, 6, 6, 6, 6, 6, 6, 6, 6, 6, 6, 6, 6, 6, 6, 6, 6, 6, 6, 6, 6, 6, 6, 6, 6, 6, 6, 6, 6, 6, 6, 6, 6, 6, 6, 0, 6, 6, 6, 6, 6, 6, 6, 6, 6, 6, 6, 6, 6, 6, 6, 6, 6, 6, 6, 6, 6, 6, 6, 6, 6, 6, 6, 6, 6, 6, 6, 6, 6, 6, 6, 6, 6, 6, 6, 6, 6, 6, 6, 6, 6, 6, 6, 6, 6, 6, 6, 6, 6, 6, 6, 6, 6, 6, 6, 6, 6, 6, 6, 6, 6, 6, 6, 6, 6, 6, 6, 6, 6, 6, 6, 6, 6, 6, 6, 6, 6, 6, 6, 6, 6, 6, 6, 6, 6, 6, 6, 6, 6, 6, 6, 6, 6, 6, 6, 6, 6, 6, 6, 6, 6, 6, 6, 6, 6, 6, 6, 6, 6, 6, 6, 6, 6, 3, 6, 6, 6, 6, 6, 6, 6, 6, 6, 6, 6, 6, 6, 6, 6, 6, 6, 6, 6, 6, 6, 6, 6, 6, 6, 6, 0, 0, 0, 3, 3, 3, 6, 6, 6, 6, 6, 6, 6, 6, 6, 6, 0, 6, 6, 6, 6, 6, 6, 6, 6, 6, 6, 6, 6, 6, 6, 6, 6, 6, 6, 6, 6, 6, 6, 6, 6, 6, 6, 6, 6, 6, 6, 6, 6, 6, 6, 6, 6, 6, 6, 6, 6, 6, 6, 6, 6, 6, 6, 6, 6, 6, 6, 6, 6, 6, 6, 6, 6, 6, 6, 6, 6, 6, 6, 6, 6, 6, 6, 6, 6, 6, 6, 6, 6, 6, 6, 6, 6, 6, 6, 6, 6, 6, 6, 6, 6, 6, 6, 6, 6, 6, 6, 6, 6, 6, 6, 6, 6, 6, 6, 6, 6, 6, 6, 6, 6, 6, 6, 6, 6, 6, 6, 6, 6, 6, 6, 6, 6, 6, 6, 6, 3, 3, 3, 1, 1, 1, 1, 3, 3, 3, 3, 1, 3, 3, 1, 3, 3, 3, 1, 6, 6, 6, 6, 6, 6, 6, 6, 6, 6, 6, 6, 6, 6, 6, 6, 6, 6, 6, 6, 6, 6, 6, 6, 6, 6, 6, 6, 6, 6, 6, 6, 6, 6, 6, 6, 6, 6, 6, 6, 6, 6, 6, 6, 6, 6, 6, 6, 6, 6, 6, 6, 6, 6, 6, 6, 6, 6, 6, 6, 6, 6, 6, 6, 6, 6, 6, 6, 6, 6, 6, 6, 6, 6, 6, 6, 6, 6, 6, 6, 6, 6, 6, 6, 6, 6, 6, 6, 6, 6, 6, 6, 6, 6, 6, 6, 6, 6, 6, 6, 6, 6, 6, 6, 6, 6, 6, 6, 6, 6, 6, 6, 6, 6, 6, 6, 6, 6, 6, 6, 6, 6, 6, 6, 6, 6, 6, 6, 6, 6, 6, 6, 6, 6, 6, 6, 6, 6, 6, 6, 6, 6, 6, 6, 6, 6, 6, 6, 6, 6, 6, 6, 6, 6, 6, 6, 6, 6, 6, 6, 6, 6, 6, 6, 6, 6, 6, 6, 6, 6, 6, 6, 6, 6, 6, 6, 6, 6, 6, 6, 6, 6, 6, 6, 6, 6, 6, 6, 6, 6, 6, 6, 6, 6, 6, 6, 6, 6, 6, 6, 3, 6, 6, 6, 6, 6, 6, 6, 6, 6, 6, 6, 6, 6, 6, 6, 6, 6, 6, 6, 6, 6, 6, 3, 3, 3, 0, 0, 3, 3, 6, 6, 6, 6, 6, 6, 6, 6, 6, 6, 6, 6, 6, 6, 6, 6, 6, 6, 6, 6, 6, 6, 6, 6, 6, 6, 6, 6, 6, 6, 6, 6, 6, 6, 6, 6, 6, 6, 6, 6, 6, 6, 6, 6, 6, 6, 6, 6, 6, 6, 6, 6, 6, 0, 6, 6, 6, 6, 6, 6, 6, 6, 6, 6, 6, 6, 6, 6, 6, 6, 6, 6, 6, 6, 6, 6, 6, 6, 6, 6, 6, 6, 6, 6, 6, 6, 6, 6, 6, 6, 6, 6, 6, 6, 6, 6, 6, 6, 6, 6, 6, 6, 6, 6, 6, 6, 6, 6, 6, 6, 6, 6, 6, 6, 6, 6, 6, 6, 6, 6, 6, 3, 0, 6, 6, 6, 6, 6, 6, 6, 6, 6, 6, 6, 6, 6, 6, 6, 6, 6, 6, 6, 6, 6, 6, 6, 6, 6, 6, 6, 6, 3, 3, 6, 6, 6, 6, 6, 6, 6, 6, 6, 6, 6, 6, 6, 6, 6, 6, 6, 6, 6, 6, 6, 6, 6, 6, 6, 6, 6, 6, 6, 6, 6, 6, 6, 6, 6, 6, 6, 6, 6, 6, 6, 6, 6, 6, 6, 6, 6, 6, 6, 6, 6, 6, 6, 6, 6, 6, 6, 6, 6, 6, 6, 6, 6, 6, 6, 6, 6, 6, 6, 6, 6, 6, 6, 6, 6, 6, 6, 6, 6, 6, 6, 6, 6, 6, 6, 6, 6, 6, 6, 6, 6, 6, 6, 6, 6, 6, 6, 6, 6, 6, 6, 6, 6, 6, 6, 6, 6, 6, 6, 6, 6, 6, 6, 6, 6, 6, 6, 6, 6, 6, 6, 6, 6, 6, 6, 6, 6, 6, 6, 6, 6, 6, 6, 6, 6, 6, 6, 6, 6, 6, 6, 6, 6, 6, 6, 6, 6, 6, 6, 6, 6, 6, 6, 6, 6, 6, 6, 6, 6, 6, 6, 6, 6, 6, 6, 6, 6, 6, 6, 6, 6, 6, 6, 6, 6, 6, 6, 6, 6, 6, 6, 6, 6, 6, 6, 6, 6, 6, 6, 6, 6, 6, 6, 6, 6, 6, 6, 6, 6, 6, 6, 6, 6, 6, 6, 6, 6, 6, 6, 6, 6, 6, 6, 6, 6, 6, 6, 6, 6, 6, 6, 6, 6, 6, 6, 6, 6, 6, 6, 6, 6, 6, 6, 6, 6, 6, 6, 6, 6, 6, 6, 6, 6, 6, 6, 6, 6, 6, 6, 6, 6, 6, 6, 6, 6, 6, 6, 6, 6, 6, 6, 6, 6, 6, 6, 6, 6, 6, 6, 6, 6, 6, 6, 6, 6, 6, 6, 6, 6, 6, 6, 6, 6, 6, 6, 6, 6, 6, 6, 6, 6, 6, 6, 6, 6, 6, 6, 6, 6, 6, 6, 6, 6, 6, 6, 6, 6, 6, 6, 6, 6, 6, 6, 6, 6, 6, 6, 6, 6, 6, 6, 6, 6, 6, 6, 6, 6, 6, 6, 6, 6, 6, 6, 6, 6, 6, 6, 6, 6, 6, 6, 6, 6, 6, 6, 9, 1, 1, 6, 6, 6, 6, 6, 6, 6, 6, 6, 6, 6, 6, 6, 6, 6, 6, 6, 6, 6, 6, 6, 6, 6, 6, 6, 6, 6, 6, 6, 6, 6, 6, 6, 6, 6, 6, 6, 6, 6, 6, 6, 6, 6, 6, 6, 6, 6, 6, 6, 6, 6, 6, 6, 6, 6, 6, 6, 6, 6, 6, 6, 6, 6, 6, 6, 6, 6, 6, 6, 6, 6, 6, 6, 6, 6, 6, 6, 6, 6, 6, 6, 6, 6, 6, 6, 6, 6, 6, 6, 6, 6, 6, 6, 6, 6, 6, 6, 6, 6, 6, 6, 6, 6, 6, 6, 6, 6, 6, 6, 6, 6, 6, 6, 6, 6, 6, 6, 6, 6, 6, 6, 6, 6, 6, 6, 6, 6, 6, 6, 6, 6, 6, 6, 6, 6, 6, 6, 6, 6, 6, 6, 6, 6, 6, 6, 6, 6, 6, 6, 6, 6, 6, 6, 6, 6, 6, 6, 6, 6, 6, 6, 6, 6, 6, 6, 6, 6, 6, 6, 6, 6, 6, 6, 6, 6, 6, 6, 6, 6, 6, 6, 6, 6, 6, 6, 6, 6, 6, 6, 6, 6, 6, 6, 6, 6, 6, 6, 6, 6, 6, 6, 6, 6, 6, 6, 6, 6, 6, 6, 6, 6, 6, 6, 6, 6, 6, 6, 6, 6, 6, 6, 6, 6, 6, 6, 6, 6, 6, 6, 6, 6, 6, 6, 6, 6, 6, 6, 6, 6, 6, 6, 6, 6, 6, 6, 6, 6, 6, 6, 6, 6, 6, 6, 6, 6, 6, 6, 6, 6, 6, 6, 6, 6, 6, 6, 6, 6, 6, 6, 6, 6, 6, 6, 6, 6] \n",
      "\n",
      "the least square estimate is [[0.28170488 0.48836266 0.41002266 0.13957594 0.7032384 ]]\n",
      "the true parameter is  [[ 0.34583536  0.59370914 -0.07174962 -0.02907612  0.46200467]] \n",
      "\n"
     ]
    }
   ],
   "source": [
    "T = 2000\n",
    "\n",
    "# specify a threshold\n",
    "beta = lambda t,delta : sigma*np.sqrt(2*log(1/delta) + d*log(t))\n",
    "strategy = LinUCB(X,beta,0.05,1)\n",
    "\n",
    "start = time.time()\n",
    "selections,rewards = OneBanditOneLearnerOneRun(linear_bandit, strategy, T)\n",
    "print(\"elapsed time is\",time.time()-start)\n",
    "print(selections,\"\\n\")\n",
    "\n",
    "print(\"the least square estimate is\",np.transpose(theta))\n",
    "print(\"the true parameter is \",np.transpose(strategy1.thetaLS),\"\\n\")"
   ]
  },
  {
   "cell_type": "code",
   "execution_count": 9,
   "metadata": {},
   "outputs": [],
   "source": [
    "class LinTS:\n",
    "    \"\"\"Linear Thompson Sampling strategy\"\"\"\n",
    "    def __init__(self,X,v=1,reg=1):\n",
    "        # the algorithms is fed with the known matrix of features (K,d), v posterior inflation parameter\n",
    "        self.features = X\n",
    "        (self.nbArms,self.dimension) = np.shape(X)\n",
    "        self.reg = reg \n",
    "        self.v = v \n",
    "        self.clear()\n",
    "\n",
    "    def clear(self):\n",
    "        # initialize the design matrix, its inverse, the vector containing the sum of r_s*x_s and the least squares estimate\n",
    "        self.Design = self.reg*np.eye(self.dimension)\n",
    "        self.DesignInv = (1/self.reg)*np.eye(self.dimension)\n",
    "        self.Vector = np.zeros((self.dimension,1))\n",
    "        self.thetaLS = np.zeros((self.dimension,1))\n",
    "        self.t = 1\n",
    "    \n",
    "    def chooseArmToPlay(self):\n",
    "        thetaTilde = np.random.multivariate_normal(self.thetaLS.reshape(self.dimension,), (self.v*self.v)*self.DesignInv)\n",
    "        indices=np.dot(self.features,thetaTilde)\n",
    "        return randmax(indices)\n",
    "\n",
    "    def receiveReward(self,arm,reward):\n",
    "        x = self.features[arm,:].reshape((self.dimension,1))\n",
    "        self.Design = self.Design + np.dot(x,np.transpose(x)) \n",
    "        self.Vector = self.Vector + reward*x\n",
    "        # online update of the inverse of the design matrix\n",
    "        Y = np.dot(self.DesignInv,x)\n",
    "        self.DesignInv = self.DesignInv - (1/(1 + np.dot(np.transpose(x),Y)))*np.dot(Y,np.transpose(Y)) \n",
    "        # update of the least squares estimate \n",
    "        self.thetaLS = np.dot(self.DesignInv,self.Vector)\n",
    "        self.t = self.t + 1\n",
    "\n",
    "    def name(self):\n",
    "        return \"LinTS\""
   ]
  },
  {
   "cell_type": "markdown",
   "metadata": {},
   "source": [
    "and now Thompson Sampling. "
   ]
  },
  {
   "cell_type": "code",
   "execution_count": 10,
   "metadata": {},
   "outputs": [
    {
     "name": "stdout",
     "output_type": "stream",
     "text": [
      "elapsed time is 0.32634687423706055\n",
      "[1, 0, 0, 1, 3, 0, 5, 6, 3, 0, 2, 6, 6, 9, 1, 6, 6, 6, 9, 9, 6, 9, 6, 1, 1, 9, 6, 6, 6, 9, 6, 6, 6, 6, 6, 6, 1, 3, 6, 6, 6, 6, 6, 6, 6, 6, 6, 6, 6, 6, 6, 6, 6, 6, 6, 6, 6, 6, 6, 6, 1, 6, 6, 6, 6, 6, 6, 6, 6, 6, 3, 6, 6, 6, 6, 6, 6, 6, 6, 6, 6, 6, 6, 6, 6, 6, 6, 6, 6, 6, 6, 6, 6, 6, 6, 6, 6, 6, 6, 6, 9, 6, 6, 6, 6, 6, 6, 6, 6, 6, 6, 6, 6, 6, 6, 6, 6, 6, 6, 6, 6, 6, 6, 6, 6, 3, 1, 6, 6, 6, 6, 6, 6, 6, 1, 6, 6, 6, 6, 6, 6, 6, 6, 6, 6, 6, 6, 6, 6, 6, 6, 6, 6, 6, 3, 6, 6, 6, 6, 6, 6, 6, 6, 6, 6, 1, 6, 3, 6, 6, 6, 6, 6, 6, 6, 6, 6, 6, 6, 6, 6, 6, 6, 6, 6, 6, 6, 6, 6, 6, 6, 6, 6, 6, 6, 6, 6, 6, 6, 6, 6, 6, 6, 6, 6, 6, 6, 6, 6, 6, 6, 6, 6, 6, 6, 6, 6, 6, 6, 6, 6, 6, 6, 6, 6, 6, 6, 6, 6, 6, 6, 6, 6, 6, 6, 6, 6, 6, 6, 6, 6, 6, 6, 6, 6, 6, 6, 6, 6, 6, 6, 6, 6, 6, 6, 6, 6, 6, 6, 6, 6, 6, 6, 6, 6, 6, 6, 6, 6, 6, 6, 6, 6, 6, 6, 6, 6, 6, 6, 6, 6, 6, 6, 6, 6, 6, 6, 6, 6, 6, 6, 6, 6, 6, 6, 6, 6, 6, 6, 6, 6, 6, 6, 6, 6, 6, 6, 6, 3, 6, 6, 6, 6, 6, 6, 6, 3, 6, 6, 6, 6, 6, 6, 6, 6, 6, 6, 6, 6, 6, 6, 6, 6, 6, 6, 6, 6, 6, 6, 6, 6, 6, 6, 6, 6, 6, 6, 6, 6, 6, 6, 6, 6, 6, 6, 6, 6, 6, 6, 6, 6, 6, 6, 6, 6, 6, 6, 6, 6, 6, 6, 6, 6, 6, 6, 6, 6, 6, 6, 6, 6, 6, 6, 6, 6, 6, 6, 6, 6, 6, 6, 6, 6, 6, 6, 6, 6, 6, 6, 6, 6, 6, 6, 6, 6, 6, 6, 6, 6, 6, 6, 6, 6, 6, 6, 6, 6, 6, 6, 6, 6, 6, 6, 6, 6, 6, 6, 6, 6, 6, 6, 6, 6, 6, 6, 6, 6, 6, 6, 6, 6, 6, 6, 6, 6, 6, 6, 6, 6, 6, 6, 6, 6, 6, 6, 6, 6, 6, 6, 6, 6, 6, 6, 6, 6, 6, 6, 6, 6, 6, 3, 6, 6, 6, 6, 6, 6, 6, 6, 6, 6, 6, 6, 6, 6, 6, 6, 6, 6, 6, 6, 6, 6, 6, 6, 6, 6, 6, 6, 6, 6, 6, 6, 6, 6, 6, 6, 6, 6, 6, 6, 6, 6, 6, 6, 6, 6, 6, 6, 6, 6, 6, 6, 6, 6, 6, 6, 6, 6, 6, 6, 6, 6, 6, 6, 6, 6, 6, 6, 6, 6, 6, 6, 6, 6, 6, 6, 6, 6, 6, 6, 6, 6, 6, 6, 6, 6, 6, 6, 6, 6, 6, 6, 6, 6, 6, 6, 6, 6, 6, 6, 6, 6, 6, 6, 6, 6, 6, 6, 6, 6, 6, 6, 6, 6, 6, 6, 6, 6, 6, 6, 6, 6, 6, 6, 6, 6, 6, 6, 6, 6, 6, 6, 6, 6, 6, 6, 6, 6, 6, 6, 1, 6, 6, 6, 6, 6, 6, 6, 6, 6, 6, 6, 6, 6, 6, 6, 6, 6, 6, 6, 6, 6, 6, 6, 6, 6, 6, 6, 6, 6, 6, 6, 6, 6, 6, 6, 6, 6, 6, 6, 6, 6, 6, 6, 6, 6, 1, 6, 6, 6, 6, 6, 6, 6, 6, 6, 6, 6, 6, 6, 6, 6, 6, 6, 6, 6, 6, 6, 6, 6, 6, 6, 1, 6, 6, 6, 6, 6, 6, 6, 6, 6, 6, 6, 6, 6, 6, 6, 6, 6, 6, 6, 6, 6, 6, 6, 6, 6, 6, 6, 6, 6, 6, 6, 6, 6, 6, 6, 6, 3, 6, 6, 6, 6, 6, 6, 6, 6, 6, 6, 6, 6, 6, 6, 6, 6, 6, 6, 6, 6, 6, 6, 6, 6, 6, 6, 6, 6, 6, 6, 6, 6, 6, 6, 6, 6, 6, 6, 6, 6, 6, 6, 6, 6, 6, 6, 6, 6, 6, 6, 6, 6, 6, 6, 6, 6, 6, 6, 6, 6, 6, 6, 6, 6, 6, 6, 6, 6, 6, 6, 6, 6, 6, 6, 6, 6, 6, 6, 6, 6, 6, 6, 6, 6, 6, 6, 6, 6, 6, 6, 6, 6, 6, 6, 6, 6, 6, 6, 6, 6, 6, 6, 6, 6, 6, 6, 6, 6, 6, 6, 6, 6, 6, 6, 6, 6, 6, 6, 6, 6, 6, 6, 6, 6, 6, 6, 6, 6, 6, 6, 6, 6, 6, 6, 6, 6, 6, 6, 6, 6, 6, 6, 6, 6, 6, 6, 6, 6, 6, 6, 6, 6, 6, 6, 6, 6, 6, 6, 6, 6, 6, 6, 6, 6, 6, 6, 6, 6, 6, 6, 6, 6, 6, 6, 6, 6, 6, 6, 6, 6, 6, 6, 6, 6, 6, 6, 6, 6, 6, 6, 6, 6, 6, 6, 6, 6, 6, 6, 9, 6, 6, 6, 6, 6, 6, 6, 6, 6, 6, 6, 6, 6, 6, 6, 6, 6, 6, 6, 6, 6, 6, 6, 6, 6, 6, 6, 6, 6, 6, 6, 6, 6, 6, 6, 6, 6, 6, 6, 6, 6, 6, 6, 6, 6, 6, 6, 6, 6, 6, 6, 6, 6, 6, 6, 6, 6, 6, 6, 6, 6, 6, 6, 6, 6, 6, 6, 6, 6, 6, 6, 6, 6, 6, 6, 6, 6, 6, 6, 6, 6, 6, 6, 6, 6, 6, 6, 6, 6, 6, 6, 6, 6, 6, 6, 6, 6, 6, 6, 6, 6, 6, 6, 6, 6, 6, 6, 6, 6, 6, 6, 6, 6, 6, 6, 6, 6, 6, 6, 6, 6, 6, 6, 6, 6, 6, 6, 6, 6, 6, 6, 6, 6, 6, 6, 6, 6, 6, 6, 6, 6, 6, 6, 6, 6, 6, 6, 6, 6, 6, 6, 6, 6, 6, 6, 6, 6, 6, 6, 6, 6, 6, 6, 6, 6, 6, 6, 6, 6, 6, 6, 6, 6, 6, 6, 6, 6, 6, 6, 6, 6, 6, 6, 6, 6, 6, 6, 6, 6, 6, 6, 6, 6, 6, 6, 6, 6, 6, 6, 6, 6, 6, 6, 6, 6, 6, 6, 6, 6, 6, 6, 6, 6, 6, 6, 6, 6, 6, 6, 6, 6, 6, 6, 6, 6, 6, 6, 6, 6, 6, 6, 6, 6, 6, 6, 6, 6, 6, 6, 6, 6, 6, 6, 6, 6, 6, 6, 6, 6, 6, 6, 6, 6, 6, 6, 6, 6, 6, 6, 6, 6, 6, 6, 6, 6, 6, 6, 6, 6, 6, 6, 6, 6, 6, 6, 6, 6, 6, 6, 6, 6, 6, 6, 6, 6, 6, 6, 6, 6, 6, 6, 6, 6, 6, 6, 6, 6, 6, 6, 6, 6, 6, 6, 6, 6, 6, 6, 6, 6, 6, 6, 6, 6, 6, 6, 6, 6, 6, 6, 6, 6, 6, 6, 6, 6, 6, 6, 6, 6, 6, 6, 6, 6, 6, 6, 6, 6, 6, 6, 6, 6, 6, 6, 6, 6, 6, 6, 6, 6, 6, 6, 6, 6, 6, 6, 6, 6, 6, 6, 6, 6, 6, 6, 6, 6, 6, 6, 6, 6, 6, 6, 6, 6, 6, 6, 6, 6, 6, 6, 6, 6, 6, 6, 6, 6, 6, 6, 6, 6, 6, 6, 6, 6, 6, 6, 6, 6, 6, 6, 6, 6, 6, 6, 6, 6, 6, 6, 6, 6, 6, 6, 6, 6, 6, 6, 6, 6, 6, 6, 6, 6, 6, 6, 6, 6, 6, 6, 6, 6, 6, 6, 6, 6, 6, 6, 6, 6, 6, 6, 6, 6, 6, 6, 6, 6, 6, 6, 6, 6, 6, 6, 6, 6, 6, 6, 6, 6, 6, 6, 6, 6, 6, 6, 6, 6, 6, 6, 6, 6, 6, 6, 6, 6, 6, 6, 6, 6, 6, 6, 6, 6, 6, 6, 6, 6, 6, 6, 6, 6, 6, 6, 6, 6, 6, 6, 6, 6, 6, 6, 6, 6, 6, 6, 6, 6, 6, 6, 6, 6, 6, 6, 6, 6, 6, 6, 6, 6, 6, 6, 6, 6, 6, 6, 6, 6, 6, 6, 6, 6, 6, 6, 6, 6, 6, 6, 6, 6, 6, 6, 6, 6, 6, 6, 6, 6, 6, 6, 6, 6, 6, 6, 6, 6, 6, 6, 6, 6, 6, 6, 6, 6, 6, 6, 6, 6, 6, 6, 6, 6, 6, 6, 6, 6, 6, 6, 6, 6, 6, 6, 6, 6, 6, 6, 6, 6, 6, 6, 6, 6, 6, 6, 6, 6, 6, 6, 6, 6, 6, 6, 6, 6, 6, 6, 6, 6, 6, 6, 6, 6, 6, 6, 6, 6, 6, 6, 6, 6, 6, 6, 6, 6, 6, 6, 6, 6, 6, 6, 6, 6, 6, 6, 6, 6, 6, 6, 6, 6, 6, 6, 6, 6, 6, 6, 6, 6, 6, 6, 6, 6, 6, 6, 6, 6, 6, 6, 6, 6, 6, 6, 6, 6, 6, 6, 6, 6, 6, 6, 6, 6, 6, 6, 6, 6, 6, 6, 6, 6, 6, 6, 6, 6, 6, 6, 6, 6, 6, 6, 6, 6, 6, 6, 6, 6, 6, 6, 6, 6, 6, 6, 6, 6, 6, 6, 6, 6, 6, 6, 6, 6, 6, 6, 6, 6, 6, 6, 6, 6, 6, 6, 6, 6, 6, 6, 6, 6, 6, 6, 6, 6, 6, 6, 6, 6, 6, 6, 6, 6, 6, 6, 6, 6, 6, 6, 6, 6, 6, 6, 6, 6, 6, 6, 6, 6, 6, 6, 6, 6, 6, 6, 6, 6, 6, 6, 6, 6, 6, 6, 6, 6, 6, 6, 6, 6, 6, 6, 6, 6, 6, 6, 6, 6, 6, 6, 6, 6, 6, 6, 6, 6, 6, 6, 6, 6, 6, 6, 6, 6, 6, 6, 6, 6, 6, 6, 6, 6, 6, 6, 6, 6, 6, 6, 6, 6, 6, 6, 6, 6, 6, 6, 6, 6, 6, 6, 6, 6, 6, 6, 6, 6, 6, 6, 6, 6, 6, 6, 6, 6, 6, 6, 6, 6, 6, 6, 6, 6, 6, 6, 6, 6, 6, 6, 6, 6, 6, 6, 6, 6, 6, 6, 6, 6, 6, 6, 6, 6, 6, 6, 6, 6, 6, 6, 6, 6, 6, 6, 6, 6, 6, 6, 6, 6, 6, 6, 6, 6, 6, 6, 6, 6, 6, 6, 6, 6, 6, 6, 6, 6, 6, 6, 6, 6, 6, 6, 6, 6, 6, 6, 6, 6, 6, 6, 6, 6, 6, 6, 6, 6, 6, 6, 6, 6, 6, 6, 6, 6, 6, 9, 6, 6, 6, 6, 6, 6, 6, 3, 6, 6, 6, 6, 6, 6, 6, 6, 6, 6, 6, 6, 6, 6, 6, 6, 6, 6, 6, 6, 6, 6, 6, 6, 6, 6, 6, 6, 6, 6, 6, 6, 6, 6, 6, 6, 6, 6, 6, 6, 6, 6, 6, 6, 6, 6, 6, 6, 6, 6, 6, 6, 6, 6, 6, 6, 6, 6, 6, 6, 6, 6, 6, 6, 6, 6, 6, 3, 6, 6, 6, 6, 6, 6, 6, 6, 6, 6, 6, 6, 6, 6, 6, 6, 6, 6, 6, 6, 6, 6, 6, 6, 6, 6, 6, 6, 6, 6, 6, 6, 6, 6, 6, 6, 6, 6, 6, 6, 6, 6, 6, 6, 6, 6, 6, 6, 6, 6, 6, 6, 6, 6, 6, 6, 6, 6, 6, 6, 6, 6, 6, 6, 6, 6, 6, 6, 6, 6, 6, 6, 6, 6, 6, 6, 3] \n",
      "\n",
      "the least square estimate is [[0.28170488 0.48836266 0.41002266 0.13957594 0.7032384 ]]\n",
      "the true parameter is  [[ 0.34583536  0.59370914 -0.07174962 -0.02907612  0.46200467]] \n",
      "\n"
     ]
    }
   ],
   "source": [
    "T = 2000\n",
    "\n",
    "# specify a threshold\n",
    "strategy = LinTS(X,sigma)\n",
    "\n",
    "start = time.time()\n",
    "selections,rewards = OneBanditOneLearnerOneRun(linear_bandit, strategy, T)\n",
    "print(\"elapsed time is\",time.time()-start)\n",
    "print(selections,\"\\n\")\n",
    "\n",
    "print(\"the least square estimate is\",np.transpose(theta))\n",
    "print(\"the true parameter is \",np.transpose(strategy1.thetaLS),\"\\n\")"
   ]
  },
  {
   "cell_type": "markdown",
   "metadata": {},
   "source": [
    "In class, we mentioned possible choices for the threshold function $\\beta(t,\\delta)$ for which LinUCB is guaranteed to have sub-linear regret, as well as a choice of the parameter $v$ for which LinTS has sub-linear regret. But one can also tune these parameter a little bit. In particular for LinTS, the parameter $v=\\sigma$ would correspond to the true Bayesian Thompson Sampling algorithm (i.e. it uses the exact posterior distribution using the fact that the noise is Gaussian with variance $\\sigma^2$). \n",
    "\n",
    "**Compare the regret of UCB with that of two versions of LinUCB (one with the theoretical threshold, the other with a heuristic threshold) and two versions of Thompson Sampling (theoretical and heuristic parameter $v$).** \n",
    "\n",
    "Comment the results obtained. "
   ]
  },
  {
   "cell_type": "code",
   "execution_count": 11,
   "metadata": {},
   "outputs": [],
   "source": [
    "# initializing the algorithms\n",
    "\n",
    "T = 5000\n",
    "\n",
    "UCBalgo = UCB(K,2*sigma**2)\n",
    "\n",
    "beta = lambda t,delta : sigma*np.sqrt(2*log(1/delta) + d*log(1+t/d)) + 1\n",
    "LinUCB_Theory = LinUCB(X,beta,1/T,1)\n",
    "\n",
    "betaHeuristic = lambda t,delta : sigma*np.sqrt(log(t))\n",
    "LinUCB_Heuristic = LinUCB(X,betaHeuristic,0.05,1)\n",
    "\n",
    "v = sigma*sqrt(9*d*log(T/0.05))\n",
    "LinTS_Theory = LinTS(X,v)\n",
    "LinTS_Heuristic = LinTS(X,sigma)\n",
    "\n",
    "algorithms = [UCBalgo,LinUCB_Theory,LinUCB_Heuristic,LinTS_Theory,LinTS_Heuristic]\n",
    "names = [\"UCB\",\"LinUCB theory\",\"LinUCB heuristic\",\"LinTS theory\",\"LinTS heuristic\"]"
   ]
  },
  {
   "cell_type": "code",
   "execution_count": 12,
   "metadata": {},
   "outputs": [
    {
     "name": "stdout",
     "output_type": "stream",
     "text": [
      "time elapsed for 100 runs of UCB: 11.921751499176025\n",
      "time elapsed for 100 runs of LinUCB - theory: 76.11287260055542\n",
      "time elapsed for 100 runs of LinUCB - heuristic: 69.47322750091553\n",
      "time elapsed for 100 runs of LinTS - theory: 75.51624584197998\n",
      "time elapsed for 100 runs of LinTS - heuristic: 75.92685174942017\n"
     ]
    }
   ],
   "source": [
    "# launching the experiments and gathering data (takes time!) \n",
    "\n",
    "Nexp = 100\n",
    "tsave = np.arange(1,T,20)\n",
    "\n",
    "start = time.time()\n",
    "RegretUCB = OneBanditOneLearnerMultipleRuns(linear_bandit, UCBalgo, T, Nexp, tsave)\n",
    "print(\"time elapsed for\",Nexp,\"runs of UCB:\",time.time()-start) \n",
    "\n",
    "start = time.time()\n",
    "RegretLinUCBT = OneBanditOneLearnerMultipleRuns(linear_bandit, LinUCB_Theory, T, Nexp, tsave)\n",
    "print(\"time elapsed for\",Nexp,\"runs of LinUCB - theory:\",time.time()-start)   \n",
    "\n",
    "start = time.time()\n",
    "RegretLinUCB = OneBanditOneLearnerMultipleRuns(linear_bandit, LinUCB_Heuristic, T, Nexp, tsave)\n",
    "print(\"time elapsed for\",Nexp,\"runs of LinUCB - heuristic:\",time.time()-start)\n",
    "\n",
    "start = time.time()\n",
    "RegretLinTST = OneBanditOneLearnerMultipleRuns(linear_bandit, LinTS_Theory, T, Nexp, tsave)\n",
    "print(\"time elapsed for\",Nexp,\"runs of LinTS - theory:\",time.time()-start)\n",
    "\n",
    "start = time.time()\n",
    "RegretLinTS = OneBanditOneLearnerMultipleRuns(linear_bandit, LinTS_Heuristic, T, Nexp, tsave)\n",
    "print(\"time elapsed for\",Nexp,\"runs of LinTS - heuristic:\",time.time()-start)"
   ]
  },
  {
   "cell_type": "code",
   "execution_count": 13,
   "metadata": {
    "scrolled": true
   },
   "outputs": [
    {
     "data": {
      "image/png": "[encoded data removed]",
      "text/plain": [
       "<Figure size 432x288 with 1 Axes>"
      ]
     },
     "metadata": {
      "needs_background": "light"
     },
     "output_type": "display_data"
    }
   ],
   "source": [
    "# Plot the regret for the 5 algorithms. \n",
    "\n",
    "colors = [\"b\",\"r\",\"g\",\"k\",\"m\"]\n",
    "plt.clf()\n",
    "\n",
    "plt.plot(tsave, np.mean(RegretUCB, 0), linewidth=2.0, color=\"k\", label=\"UCB\")\n",
    "plt.plot(tsave, np.mean(RegretLinUCBT, 0), linewidth=2.0, color=\"m\", label=\"LinUCB - theory\")\n",
    "plt.plot(tsave, np.mean(RegretLinUCB, 0), linewidth=2.0, color=\"r\", label=\"LinUCB - heuristic\")\n",
    "plt.plot(tsave, np.mean(RegretLinTST, 0), linewidth=2.0, color=\"g\", label=\"LinTS - theory\")\n",
    "plt.plot(tsave, np.mean(RegretLinTS, 0), linewidth=2.0, color=\"b\", label=\"LinTS - heuristic\")\n",
    "\n",
    "plt.legend()\n",
    "plt.show()"
   ]
  },
  {
   "cell_type": "markdown",
   "metadata": {},
   "source": [
    "LinTS with posterior inflation performed very bad, let's see what happens without this algorithm on the plots. "
   ]
  },
  {
   "cell_type": "code",
   "execution_count": 14,
   "metadata": {},
   "outputs": [
    {
     "data": {
      "image/png": "[encoded data removed]",
      "text/plain": [
       "<Figure size 432x288 with 1 Axes>"
      ]
     },
     "metadata": {
      "needs_background": "light"
     },
     "output_type": "display_data"
    }
   ],
   "source": [
    "colors = [\"b\",\"r\",\"g\",\"k\",\"m\"]\n",
    "plt.clf()\n",
    "\n",
    "plt.plot(tsave, np.mean(RegretUCB, 0), linewidth=2.0, color=\"k\", label=\"UCB\")\n",
    "plt.plot(tsave, np.mean(RegretLinUCBT, 0), linewidth=2.0, color=\"m\", label=\"LinUCB - theory\")\n",
    "plt.plot(tsave, np.mean(RegretLinUCB, 0), linewidth=2.0, color=\"r\", label=\"LinUCB - heuristic\")\n",
    "#plt.plot(tsave, np.mean(RegretLinTST, 0), linewidth=2.0, color=\"g\", label=\"LinTS - theory\")\n",
    "plt.plot(tsave, np.mean(RegretLinTS, 0), linewidth=2.0, color=\"b\", label=\"LinTS - heuristic\")\n",
    "\n",
    "plt.legend()\n",
    "plt.show()"
   ]
  },
  {
   "cell_type": "markdown",
   "metadata": {},
   "source": [
    "LinUCB with a heuristic threshold and LinTS with $v = \\sigma$ can exploit the features and beat UCB. "
   ]
  }
 ],
 "metadata": {
  "colab": {
   "name": "RLSS_Bandits_correction.ipynb",
   "provenance": [],
   "toc_visible": true,
   "version": "0.3.2"
  },
  "kernelspec": {
   "display_name": "Python 3",
   "language": "python",
   "name": "python3"
  },
  "language_info": {
   "codemirror_mode": {
    "name": "ipython",
    "version": 3
   },
   "file_extension": ".py",
   "mimetype": "text/x-python",
   "name": "python",
   "nbconvert_exporter": "python",
   "pygments_lexer": "ipython3",
   "version": "3.8.3"
  }
 },
 "nbformat": 4,
 "nbformat_minor": 1
}
