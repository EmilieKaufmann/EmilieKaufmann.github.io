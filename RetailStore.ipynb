{
 "cells": [
  {
   "cell_type": "markdown",
   "metadata": {},
   "source": [
    "You own a bike store. During week $t$, the (random) demand is $D_t$ units. \n",
    "On Monday morning you may choose to command $A_t$ additional units: they are delivered immediately before the shop opens. For each week:\n",
    "\n",
    "  * Maintenance cost: $h$ per unit in stock left from the previous week (no maintenance is needed for newly commanded items)\n",
    "  * Command cost: $c$ for each unit ordered + $c_0$ per command\n",
    "  * Sales profit: $p$ per unit sold\n",
    "  * Constraint: \n",
    "    - your warehouse has a maximal capacity of $M$ unit (any additionnal bike gets stolen)\n",
    "    - you cannot sell bikes that you don't have in stock\n",
    "\n",
    "\n",
    "* State: number of bikes in stock left from the last week => state space $\\mathcal{S} = \\{0,\\dots, M\\}$\n",
    "* Action: number of bikes commanded at the beginning of the week => action space $\\mathcal{A} = \\{0, \\dots ,M\\}$ \n",
    "* Reward = balance of the week: if you command $a_t$ bikes,\n",
    "$$r_t = -c_0 \\mathbb{1}_{(a_t >0)}- c \\times a_t - h\\times s_t + p \\times \\min(D_t, s_t+a_t, M)$$\n",
    "* Transitions: you end the week with the number of bikes $$s_{t+1} = \\max\\big(0, \\min(M, s_t + a_t)  - D_t \\big)$$ \n",
    "\n",
    "Our goal is to maximize the discounted sum of rewards, starting from an initial stock $s_1$, that is to find a policy whose value is \n",
    "$$V^*(s_1) = \\max_{\\pi}\\mathbb{E}_{\\pi}\\left[\\sum_{s=1}^{\\infty} \\gamma^{s-1}r_s\\right].$$"
   ]
  },
  {
   "cell_type": "code",
   "execution_count": null,
   "metadata": {},
   "outputs": [],
   "source": [
    "import numpy as np\n",
    "import random as rd\n",
    "import gym\n",
    "from matplotlib import pyplot as plt\n",
    "import time "
   ]
  },
  {
   "cell_type": "markdown",
   "metadata": {},
   "source": [
    "### Problem parameters "
   ]
  },
  {
   "cell_type": "code",
   "execution_count": null,
   "metadata": {},
   "outputs": [],
   "source": [
    "M = 15 # stock capacity\n",
    "h = 0.3 # maintenance cost (per unit)\n",
    "c = 0.5 # ordering cost (per unit)\n",
    "c0 = 0.3 # fix delivery cost per command\n",
    "p = 1 # selling price (per unit)"
   ]
  },
  {
   "cell_type": "markdown",
   "metadata": {},
   "source": [
    "### Specifying the demand distribution \n",
    "\n",
    "We choose a (truncated) geometric distribution, for which \n",
    "$$\\mathbb{P}(D_t = m) = q(1-q)^m \\ \\ \\forall m \\in \\{0,\\dots,M-1\\}$$\n",
    "and $\\mathbb{P}(D_t = M) = 1 - \\sum_{m=0}^{M-1}\\mathbb{P}(D_t = m)$. "
   ]
  },
  {
   "cell_type": "code",
   "execution_count": null,
   "metadata": {},
   "outputs": [],
   "source": [
    "# demand distribution (truncated geometric with parameter q)\n",
    "q = 0.1\n",
    "pdem = np.array([q*(1-q)**m for m in range(M+1)])\n",
    "pdem[M] = pdem[M]+1-np.sum(pdem)\n",
    "\n",
    "print(\"the average demand is \",np.sum([m*pdem[m] for m in range(M+1)]))\n",
    "\n",
    "def SimuDemand(pdem): \n",
    "    cpdem = np.cumsum(pdem)\n",
    "    i=0\n",
    "    u = rd.random()\n",
    "    while (u >cpdem[i]):\n",
    "        i = i+1\n",
    "    return i \n",
    "\n",
    "print(\"a simulated demand is \",SimuDemand(pdem))"
   ]
  },
  {
   "cell_type": "markdown",
   "metadata": {},
   "source": [
    "### Encoding of the MDP as a gym environment\n",
    "\n",
    "This is just to give an example on how gym works. "
   ]
  },
  {
   "cell_type": "code",
   "execution_count": null,
   "metadata": {},
   "outputs": [],
   "source": [
    "def nextstate(s,a,d,M):\n",
    "    # computes the next state if the demand is d\n",
    "    return max(0,min(M,s+a) -d)\n",
    "\n",
    "def nextreward(s,a,d,M,c,c0,h,p):\n",
    "    # computes the reward if the demand is d\n",
    "    rew = -c*a - h*s + p*min(M,d,s+a)\n",
    "    if (a>0):\n",
    "        rew = rew - c0\n",
    "    return rew\n",
    "\n",
    "class StoreManagement(gym.Env):\n",
    "    \"\"\"\n",
    "    Retail Store Management environment\n",
    "    The environment defines which actions can be taken at which point and\n",
    "    when the agent receives which reward.\n",
    "    \"\"\"\n",
    "    def __init__(self,FirstState):\n",
    "        \n",
    "        # General variables defining the environment\n",
    "        self.Stock_Capacity = M\n",
    "        self.Maintenance_Cost = h\n",
    "        self.Order_Cost = c \n",
    "        self.Delivery_Cost = c0\n",
    "        self.Selling_Price = p\n",
    "        self.Demand_Distribution = pdem\n",
    "        \n",
    "        # Define the action space\n",
    "        self.action_space = gym.spaces.Discrete(self.Stock_Capacity+1)\n",
    "\n",
    "        # Define the state space (state space = observation space in this example)\n",
    "        self.observation_space = gym.spaces.Discrete(self.Stock_Capacity+1)\n",
    "\n",
    "        # current time step\n",
    "        self.curr_step = -1 # \n",
    "        \n",
    "        # initial state\n",
    "        self.state = FirstState\n",
    "\n",
    "    def step(self, action):\n",
    "        \"\"\"\n",
    "        simulates a transition following an action in the current state\n",
    "        action : int\n",
    "        \"\"\"\n",
    "        self.curr_step += 1\n",
    "        # simulate the demand \n",
    "        Demand = SimuDemand(self.Demand_Distribution)\n",
    "        # compute the reward\n",
    "        reward = nextreward(self.state,action,Demand,self.Stock_Capacity,self.Order_Cost,self.Delivery_Cost,self.Maintenance_Cost,self.Selling_Price)\n",
    "        # compute the next state \n",
    "        self.state = nextstate(self.state,action,Demand,self.Stock_Capacity)\n",
    "        # return 4 elements: observation / reward / termination? (no terminal state here) / information (optional) \n",
    "        return self.state, reward, False, {}\n",
    "\n",
    "    def reset(self,InitialStock):\n",
    "        \"\"\"\n",
    "        Reset the state of the environment and returns an initial observation.\n",
    "        \"\"\"\n",
    "        self.curr_step = -1\n",
    "        self.state = InitialStock\n",
    "    \n",
    "    def _render(self, mode='human'):\n",
    "        \"\"\"optional visualization of the interaction: none here\"\"\"\n",
    "        return\n"
   ]
  },
  {
   "cell_type": "markdown",
   "metadata": {},
   "source": [
    "### A function that simulates a trajectory under a policy Pi starting from some state $s_0$"
   ]
  },
  {
   "cell_type": "code",
   "execution_count": null,
   "metadata": {},
   "outputs": [],
   "source": [
    "def SimulateTrajectory(T,Pi,s0):\n",
    "    \"\"\"return a vector of T successive states and a vector of T successive rewards\"\"\"\n",
    "    Rewards = np.zeros(T+1)\n",
    "    States = np.zeros(T+1)\n",
    "    env=StoreManagement(s0)\n",
    "    for t in range(T):\n",
    "        ## TO BE COMPLETED\n",
    "    return States,Rewards"
   ]
  },
  {
   "cell_type": "markdown",
   "metadata": {},
   "source": [
    "### Running simulations with three simple baselines "
   ]
  },
  {
   "cell_type": "code",
   "execution_count": null,
   "metadata": {},
   "outputs": [],
   "source": [
    "s1 = 10 # initial stock \n",
    "gamma = 0.97 # discount factor \n",
    "\n",
    "def PiUniform(s):\n",
    "    # pick uniformly at random in {0,1,...,M-s}\n",
    "    x = rd.sample(range(M+1-s),1)\n",
    "    return s+x[0]\n",
    "\n",
    "def PiConstant(s,c=3):\n",
    "    # oder a constant number of c bikes \n",
    "    return min(c,M-s)\n",
    "\n",
    "def PiThreshold(s,m1=4,m2=10):\n",
    "    # if less than m1 bikes in stock, refill it up to m2\n",
    "    action = 0\n",
    "    if (s <=m1):\n",
    "        action = (m2-s)\n",
    "    return action\n",
    "        \n",
    "\n",
    "T = int(np.log(1/(0.001*(1-gamma)))/np.log(1/gamma)) # truncation of the infinite sum\n",
    "States1,Rewards1 = SimulateTrajectory(T, PiUniform,s1)\n",
    "States2,Rewards2 = SimulateTrajectory(T, PiConstant,s1)\n",
    "States3,Rewards3 = SimulateTrajectory(T, PiThreshold,s1)\n",
    "\n",
    "# plot cumulative discounted reward (on a single run):\n",
    "plt.figure()\n",
    "plt.plot(np.cumsum(Rewards1*np.array([gamma**t for t in range(T+1)])),label=\"random policy\")\n",
    "plt.plot(np.cumsum(Rewards2*np.array([gamma**t for t in range(T+1)])),label=\"constant policy\")\n",
    "plt.plot(np.cumsum(Rewards3*np.array([gamma**t for t in range(T+1)])),label=\"threshold policy\")\n",
    "plt.xlabel('weeks')\n",
    "plt.ylabel('cumulated discounted reward')\n",
    "plt.legend()\n",
    "\n"
   ]
  },
  {
   "cell_type": "markdown",
   "metadata": {},
   "source": [
    "### Evolution of the stock"
   ]
  },
  {
   "cell_type": "code",
   "execution_count": null,
   "metadata": {},
   "outputs": [],
   "source": [
    "plt.figure()\n",
    "plt.plot(States3[range(100)])\n",
    "plt.xlabel('weeks')\n",
    "plt.ylabel('stock')\n",
    "plt.title('Evolution of the stock under a threshold policy')"
   ]
  },
  {
   "cell_type": "code",
   "execution_count": null,
   "metadata": {},
   "outputs": [],
   "source": []
  }
 ],
 "metadata": {
  "kernelspec": {
   "display_name": "Python 3",
   "language": "python",
   "name": "python3"
  },
  "language_info": {
   "codemirror_mode": {
    "name": "ipython",
    "version": 3
   },
   "file_extension": ".py",
   "mimetype": "text/x-python",
   "name": "python",
   "nbconvert_exporter": "python",
   "pygments_lexer": "ipython3",
   "version": "3.8.3"
  }
 },
 "nbformat": 4,
 "nbformat_minor": 2
}
